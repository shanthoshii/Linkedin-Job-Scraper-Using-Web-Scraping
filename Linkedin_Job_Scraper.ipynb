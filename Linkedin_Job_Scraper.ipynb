{
  "nbformat": 4,
  "nbformat_minor": 0,
  "metadata": {
    "colab": {
      "provenance": []
    },
    "kernelspec": {
      "name": "python3",
      "display_name": "Python 3"
    },
    "language_info": {
      "name": "python"
    }
  },
  "cells": [
    {
      "cell_type": "code",
      "source": [
        "#Install Required Libraries\n",
        "!pip install requests beautifulsoup4 pandas\n"
      ],
      "metadata": {
        "colab": {
          "base_uri": "https://localhost:8080/"
        },
        "collapsed": true,
        "id": "DRFXWJgnQY7q",
        "outputId": "f9b5b267-3340-480e-d0de-240ee0af4943"
      },
      "execution_count": 3,
      "outputs": [
        {
          "output_type": "stream",
          "name": "stdout",
          "text": [
            "Requirement already satisfied: requests in /usr/local/lib/python3.11/dist-packages (2.32.3)\n",
            "Requirement already satisfied: beautifulsoup4 in /usr/local/lib/python3.11/dist-packages (4.13.3)\n",
            "Requirement already satisfied: pandas in /usr/local/lib/python3.11/dist-packages (2.2.2)\n",
            "Requirement already satisfied: charset-normalizer<4,>=2 in /usr/local/lib/python3.11/dist-packages (from requests) (3.4.1)\n",
            "Requirement already satisfied: idna<4,>=2.5 in /usr/local/lib/python3.11/dist-packages (from requests) (3.10)\n",
            "Requirement already satisfied: urllib3<3,>=1.21.1 in /usr/local/lib/python3.11/dist-packages (from requests) (2.3.0)\n",
            "Requirement already satisfied: certifi>=2017.4.17 in /usr/local/lib/python3.11/dist-packages (from requests) (2025.1.31)\n",
            "Requirement already satisfied: soupsieve>1.2 in /usr/local/lib/python3.11/dist-packages (from beautifulsoup4) (2.6)\n",
            "Requirement already satisfied: typing-extensions>=4.0.0 in /usr/local/lib/python3.11/dist-packages (from beautifulsoup4) (4.12.2)\n",
            "Requirement already satisfied: numpy>=1.23.2 in /usr/local/lib/python3.11/dist-packages (from pandas) (2.0.2)\n",
            "Requirement already satisfied: python-dateutil>=2.8.2 in /usr/local/lib/python3.11/dist-packages (from pandas) (2.8.2)\n",
            "Requirement already satisfied: pytz>=2020.1 in /usr/local/lib/python3.11/dist-packages (from pandas) (2025.1)\n",
            "Requirement already satisfied: tzdata>=2022.7 in /usr/local/lib/python3.11/dist-packages (from pandas) (2025.1)\n",
            "Requirement already satisfied: six>=1.5 in /usr/local/lib/python3.11/dist-packages (from python-dateutil>=2.8.2->pandas) (1.17.0)\n"
          ]
        }
      ]
    },
    {
      "cell_type": "code",
      "source": [
        "#Send a Request to LinkedIn Jobs API\n",
        "import requests\n",
        "from bs4 import BeautifulSoup\n",
        "\n",
        "# Define the job search URL (Modify based on your location and job role)\n",
        "job_role = \"data-analyst\"\n",
        "location = \"india\"\n",
        "url = f\"https://www.linkedin.com/jobs/search/?currentJobId=4186711178&keywords=data%20analyst&origin=SWITCH_SEARCH_VERTICAL\"\n",
        "\n",
        "# Set headers to mimic a real browser\n",
        "headers = {\n",
        "    \"User-Agent\": \"Mozilla/5.0 (Windows NT 10.0; Win64; x64) AppleWebKit/537.36 (KHTML, like Gecko) Chrome/91.0.4472.124 Safari/537.36\"\n",
        "}\n",
        "\n",
        "# Send request\n",
        "response = requests.get(url, headers=headers)\n",
        "print(\"Response Status Code:\", response.status_code)\n",
        "\n",
        "# Check if request was successful\n",
        "if response.status_code == 200:\n",
        "    print(\"Successfully fetched the page!\")\n",
        "else:\n",
        "    print(\"Failed to fetch the page. LinkedIn might be blocking requests.\")\n"
      ],
      "metadata": {
        "colab": {
          "base_uri": "https://localhost:8080/"
        },
        "id": "JC6mSfGEQcL1",
        "outputId": "3e2e186b-7f59-4eed-911c-2d013950e796"
      },
      "execution_count": 4,
      "outputs": [
        {
          "output_type": "stream",
          "name": "stdout",
          "text": [
            "Response Status Code: 200\n",
            "Successfully fetched the page!\n"
          ]
        }
      ]
    },
    {
      "cell_type": "code",
      "source": [
        "# Parse HTML response\n",
        "soup = BeautifulSoup(response.text, \"html.parser\")\n",
        "\n",
        "# Extract job postings\n",
        "jobs = soup.find_all(\"li\")  # Adjust class if needed\n",
        "\n",
        "job_data = []\n",
        "\n",
        "for job in jobs:\n",
        "    title = job.find(\"h3\")\n",
        "    company = job.find(\"h4\")\n",
        "    location = job.find(\"span\", class_=\"job-search-card__location\")\n",
        "    job_link = job.find(\"a\")\n",
        "\n",
        "    if title and company and location and job_link:\n",
        "        job_data.append([\n",
        "            title.text.strip(),\n",
        "            company.text.strip(),\n",
        "            location.text.strip(),\n",
        "            \"https://www.linkedin.com\" + job_link[\"href\"]\n",
        "        ])\n",
        "\n",
        "# Convert to DataFrame\n",
        "df = pd.DataFrame(job_data, columns=[\"Job Title\", \"Company\", \"Location\", \"Job Link\"])\n",
        "print(df.head())\n",
        "\n"
      ],
      "metadata": {
        "colab": {
          "base_uri": "https://localhost:8080/"
        },
        "id": "Y03QPAGsQ3Su",
        "outputId": "f5664430-aebd-4638-fb08-59f3fc4bada6"
      },
      "execution_count": 10,
      "outputs": [
        {
          "output_type": "stream",
          "name": "stdout",
          "text": [
            "         Job Title                Company           Location  \\\n",
            "0     Data Analyst  The Coca-Cola Company        Atlanta, GA   \n",
            "1     Data Analyst                   Meta       New York, NY   \n",
            "2  Data Analyst II              Pinterest       New York, NY   \n",
            "3     Data Analyst                   Meta    Los Angeles, CA   \n",
            "4  Data Analyst II              Pinterest  San Francisco, CA   \n",
            "\n",
            "                                            Job Link  \n",
            "0  https://www.linkedin.comhttps://www.linkedin.c...  \n",
            "1  https://www.linkedin.comhttps://www.linkedin.c...  \n",
            "2  https://www.linkedin.comhttps://www.linkedin.c...  \n",
            "3  https://www.linkedin.comhttps://www.linkedin.c...  \n",
            "4  https://www.linkedin.comhttps://www.linkedin.c...  \n"
          ]
        }
      ]
    },
    {
      "cell_type": "code",
      "source": [
        "#Save Data to CSV\n",
        "import pandas as pd\n",
        "\n",
        "df = pd.DataFrame(job_data, columns=[\"Job Title\", \"Company\", \"Location\", \"Job Link\"])\n",
        "df.to_csv(\"linkedin_jobs.csv\", index=False)\n",
        "print(\"Job Data saved to CSV!\")\n"
      ],
      "metadata": {
        "colab": {
          "base_uri": "https://localhost:8080/"
        },
        "id": "-ebskf-6RQ51",
        "outputId": "713098f8-8820-4315-8720-d72463dadc25"
      },
      "execution_count": 6,
      "outputs": [
        {
          "output_type": "stream",
          "name": "stdout",
          "text": [
            "Job Data saved to CSV!\n"
          ]
        }
      ]
    },
    {
      "cell_type": "code",
      "source": [
        "#Save to SQLite Database\n",
        "import sqlite3\n",
        "\n",
        "conn = sqlite3.connect(\"linkedin_jobs.db\")\n",
        "df.to_sql(\"jobs\", conn, if_exists=\"replace\", index=False)\n",
        "conn.close()\n",
        "print(\"Job Data saved to SQLite Database!\")\n"
      ],
      "metadata": {
        "colab": {
          "base_uri": "https://localhost:8080/"
        },
        "id": "csfjEZ7zRVvv",
        "outputId": "1f29c547-23a1-4a2d-f38d-368d34e7904c"
      },
      "execution_count": 7,
      "outputs": [
        {
          "output_type": "stream",
          "name": "stdout",
          "text": [
            "Job Data saved to SQLite Database!\n"
          ]
        }
      ]
    },
    {
      "cell_type": "code",
      "source": [
        "#Retrieve and display job listings stored in the database\n",
        "conn = sqlite3.connect(\"linkedin_jobs.db\")\n",
        "query = \"SELECT * FROM jobs LIMIT 5\"\n",
        "df_jobs = pd.read_sql(query, conn)\n",
        "print(df_jobs)\n",
        "conn.close()"
      ],
      "metadata": {
        "colab": {
          "base_uri": "https://localhost:8080/"
        },
        "id": "W541lMutXc8g",
        "outputId": "771cc676-69eb-4fcf-842d-f22e2bcb80b3"
      },
      "execution_count": 11,
      "outputs": [
        {
          "output_type": "stream",
          "name": "stdout",
          "text": [
            "         Job Title                Company           Location  \\\n",
            "0     Data Analyst  The Coca-Cola Company        Atlanta, GA   \n",
            "1     Data Analyst                   Meta       New York, NY   \n",
            "2  Data Analyst II              Pinterest       New York, NY   \n",
            "3     Data Analyst                   Meta    Los Angeles, CA   \n",
            "4  Data Analyst II              Pinterest  San Francisco, CA   \n",
            "\n",
            "                                            Job Link  \n",
            "0  https://www.linkedin.com/jobs/view/data-analys...  \n",
            "1  https://www.linkedin.com/jobs/view/data-analys...  \n",
            "2  https://www.linkedin.com/jobs/view/data-analys...  \n",
            "3  https://www.linkedin.com/jobs/view/data-analys...  \n",
            "4  https://www.linkedin.com/jobs/view/data-analys...  \n"
          ]
        }
      ]
    },
    {
      "cell_type": "code",
      "source": [],
      "metadata": {
        "id": "tyNLYBfkXoZJ"
      },
      "execution_count": null,
      "outputs": []
    }
  ]
}